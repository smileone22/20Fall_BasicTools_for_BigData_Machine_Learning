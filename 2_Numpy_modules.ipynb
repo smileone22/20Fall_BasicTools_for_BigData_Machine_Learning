{
  "nbformat": 4,
  "nbformat_minor": 0,
  "metadata": {
    "colab": {
      "name": "2_Numpy_modules.ipynb",
      "provenance": [],
      "authorship_tag": "ABX9TyOXA8bn8GO5FU+v24mMRFm8",
      "include_colab_link": true
    },
    "kernelspec": {
      "name": "python3",
      "display_name": "Python 3"
    }
  },
  "cells": [
    {
      "cell_type": "markdown",
      "metadata": {
        "id": "view-in-github",
        "colab_type": "text"
      },
      "source": [
        "<a href=\"https://colab.research.google.com/github/smileone22/20Fall_R-BASIC-learningforBigData/blob/master/2_Numpy_modules.ipynb\" target=\"_parent\"><img src=\"https://colab.research.google.com/assets/colab-badge.svg\" alt=\"Open In Colab\"/></a>"
      ]
    },
    {
      "cell_type": "markdown",
      "metadata": {
        "id": "9XU0ynWRsplu"
      },
      "source": [
        "## Exploring Numpy mostly through np.array()"
      ]
    },
    {
      "cell_type": "markdown",
      "metadata": {
        "id": "YrdPqwLDsw37"
      },
      "source": [
        "- Package for mathematical, scientific computation\n",
        "- Faster than python lists\n",
        "- Use less memory than python lists\n",
        "- Has many useful built_in functions \n",
        "- Lists vs Numpy.array? \n",
        "    - It is a data structure for storing data\n",
        "    - Can be multiple dimension\n",
        "    - For 1-D list: numpy.array([data1, data2, ....])\n",
        "    - For 2-D list: numpy.array([data1, data2, ....], [data1,data2,data3, ...])\n",
        "    - called \"nd array\" (n-dimension_arry)"
      ]
    },
    {
      "cell_type": "code",
      "metadata": {
        "id": "--8sud_txvZS"
      },
      "source": [
        "import numpy"
      ],
      "execution_count": 1,
      "outputs": []
    },
    {
      "cell_type": "code",
      "metadata": {
        "id": "YKWJpxvQyBnV",
        "outputId": "5d82c223-65af-4f46-ba4b-510c4303db73",
        "colab": {
          "base_uri": "https://localhost:8080/"
        }
      },
      "source": [
        "numpy"
      ],
      "execution_count": 2,
      "outputs": [
        {
          "output_type": "execute_result",
          "data": {
            "text/plain": [
              "<module 'numpy' from '/usr/local/lib/python3.6/dist-packages/numpy/__init__.py'>"
            ]
          },
          "metadata": {
            "tags": []
          },
          "execution_count": 2
        }
      ]
    },
    {
      "cell_type": "code",
      "metadata": {
        "id": "aJUAF7QryXQZ"
      },
      "source": [
        "# Using Alias\n",
        "import numpy as np"
      ],
      "execution_count": 3,
      "outputs": []
    },
    {
      "cell_type": "code",
      "metadata": {
        "id": "6mop3sNVyeJD"
      },
      "source": [
        "# Creating ndarray\n",
        "arr=np.array([1,2,3,4])"
      ],
      "execution_count": 4,
      "outputs": []
    },
    {
      "cell_type": "code",
      "metadata": {
        "id": "iRICRhuJyfeJ",
        "outputId": "34265536-d084-44a3-ec39-d961929f4338",
        "colab": {
          "base_uri": "https://localhost:8080/"
        }
      },
      "source": [
        "arr"
      ],
      "execution_count": 5,
      "outputs": [
        {
          "output_type": "execute_result",
          "data": {
            "text/plain": [
              "array([1, 2, 3, 4])"
            ]
          },
          "metadata": {
            "tags": []
          },
          "execution_count": 5
        }
      ]
    },
    {
      "cell_type": "code",
      "metadata": {
        "id": "ShpHEavCyfit",
        "outputId": "b9ffad5c-1eb1-4d2a-fccf-14ba16667c07",
        "colab": {
          "base_uri": "https://localhost:8080/"
        }
      },
      "source": [
        "# list in python\n",
        "[1,2,3,4]"
      ],
      "execution_count": 7,
      "outputs": [
        {
          "output_type": "execute_result",
          "data": {
            "text/plain": [
              "[1, 2, 3, 4]"
            ]
          },
          "metadata": {
            "tags": []
          },
          "execution_count": 7
        }
      ]
    },
    {
      "cell_type": "code",
      "metadata": {
        "id": "cMW6odggyfVM",
        "outputId": "1e492442-aeed-4c1c-ca37-8c6c418875e0",
        "colab": {
          "base_uri": "https://localhost:8080/"
        }
      },
      "source": [
        "#Comparing types\n",
        "type(arr) , type([1,2,3,4])"
      ],
      "execution_count": 12,
      "outputs": [
        {
          "output_type": "execute_result",
          "data": {
            "text/plain": [
              "(numpy.ndarray, list)"
            ]
          },
          "metadata": {
            "tags": []
          },
          "execution_count": 12
        }
      ]
    },
    {
      "cell_type": "code",
      "metadata": {
        "id": "oyyH-4Qvz2Du"
      },
      "source": [
        "#Creating ndarry from list\n",
        "list1=[1,2,3,4]\n",
        "list2=[[1,2,3,4],[5,6,7,8]]\n",
        "arr1=np.array(list1)\n",
        "arr2=np.array(list2)"
      ],
      "execution_count": 13,
      "outputs": []
    },
    {
      "cell_type": "code",
      "metadata": {
        "id": "Zbj_n73Xz1qk",
        "outputId": "55cd516b-040b-4657-fe55-29a724fb3a79",
        "colab": {
          "base_uri": "https://localhost:8080/"
        }
      },
      "source": [
        "arr1"
      ],
      "execution_count": 14,
      "outputs": [
        {
          "output_type": "execute_result",
          "data": {
            "text/plain": [
              "array([1, 2, 3, 4])"
            ]
          },
          "metadata": {
            "tags": []
          },
          "execution_count": 14
        }
      ]
    },
    {
      "cell_type": "code",
      "metadata": {
        "id": "CWQtzuvsz1N2",
        "outputId": "b2a4aea7-2bb0-4336-95ae-411f8607e6e0",
        "colab": {
          "base_uri": "https://localhost:8080/"
        }
      },
      "source": [
        "arr2"
      ],
      "execution_count": 15,
      "outputs": [
        {
          "output_type": "execute_result",
          "data": {
            "text/plain": [
              "array([[1, 2, 3, 4],\n",
              "       [5, 6, 7, 8]])"
            ]
          },
          "metadata": {
            "tags": []
          },
          "execution_count": 15
        }
      ]
    },
    {
      "cell_type": "code",
      "metadata": {
        "id": "qxc_f4J-0Hvy",
        "outputId": "42c86627-09b5-4603-fb0d-cd5081c46d5d",
        "colab": {
          "base_uri": "https://localhost:8080/"
        }
      },
      "source": [
        "#Comparing shapes - shapes are really important!\n",
        "arr1.shape"
      ],
      "execution_count": 18,
      "outputs": [
        {
          "output_type": "execute_result",
          "data": {
            "text/plain": [
              "(4,)"
            ]
          },
          "metadata": {
            "tags": []
          },
          "execution_count": 18
        }
      ]
    },
    {
      "cell_type": "code",
      "metadata": {
        "id": "xU_x1TCt0IHF",
        "outputId": "3cfc135b-5b51-4932-fb12-c1f3c0b162c6",
        "colab": {
          "base_uri": "https://localhost:8080/"
        }
      },
      "source": [
        "arr2.shape"
      ],
      "execution_count": 19,
      "outputs": [
        {
          "output_type": "execute_result",
          "data": {
            "text/plain": [
              "(2, 4)"
            ]
          },
          "metadata": {
            "tags": []
          },
          "execution_count": 19
        }
      ]
    },
    {
      "cell_type": "code",
      "metadata": {
        "id": "jO2keB8m0H-F",
        "outputId": "40a669f6-2e05-46c0-a650-e0a425df4987",
        "colab": {
          "base_uri": "https://localhost:8080/"
        }
      },
      "source": [
        "# Data types from array\n",
        "# Different from lists, array allows SIGNLE data type\n",
        "list1=[1,3.14,\"Apple\",'1234'] #mix of integer, float, string\n",
        "arr =np.array([1,2,3,3.14]) # mix of integer and float    \n",
        "arr #all floats"
      ],
      "execution_count": 24,
      "outputs": [
        {
          "output_type": "execute_result",
          "data": {
            "text/plain": [
              "array([1.  , 2.  , 3.  , 3.14])"
            ]
          },
          "metadata": {
            "tags": []
          },
          "execution_count": 24
        }
      ]
    },
    {
      "cell_type": "code",
      "metadata": {
        "id": "96JT8lNu0HNT",
        "outputId": "098f869b-be57-4da9-99f6-e32fe085222b",
        "colab": {
          "base_uri": "https://localhost:8080/"
        }
      },
      "source": [
        "# Setting dtype to int when array is comprised of integers and floats \n",
        "arr =np.array([1,2,3,3.14],dtype=int)\n",
        "arr #all ints"
      ],
      "execution_count": 26,
      "outputs": [
        {
          "output_type": "execute_result",
          "data": {
            "text/plain": [
              "array([1, 2, 3, 3])"
            ]
          },
          "metadata": {
            "tags": []
          },
          "execution_count": 26
        }
      ]
    },
    {
      "cell_type": "code",
      "metadata": {
        "id": "IZQtmUtr0G7_",
        "outputId": "405da180-ac19-4774-9d35-b324c146dd0a",
        "colab": {
          "base_uri": "https://localhost:8080/"
        }
      },
      "source": [
        "# When array is a mixture of int and str\n",
        "arr = np.array([1,3.14,'Apple','1234'])\n",
        "arr #all string"
      ],
      "execution_count": 28,
      "outputs": [
        {
          "output_type": "execute_result",
          "data": {
            "text/plain": [
              "array(['1', '3.14', 'Apple', '1234'], dtype='<U32')"
            ]
          },
          "metadata": {
            "tags": []
          },
          "execution_count": 28
        }
      ]
    },
    {
      "cell_type": "code",
      "metadata": {
        "id": "WccT4Kr02B3T",
        "outputId": "0e1562eb-1a01-4ad1-ea88-570e8dff6022",
        "colab": {
          "base_uri": "https://localhost:8080/",
          "height": 35
        }
      },
      "source": [
        "arr[0]+arr[1] #Becomes string concatenation"
      ],
      "execution_count": 29,
      "outputs": [
        {
          "output_type": "execute_result",
          "data": {
            "application/vnd.google.colaboratory.intrinsic+json": {
              "type": "string"
            },
            "text/plain": [
              "'13.14'"
            ]
          },
          "metadata": {
            "tags": []
          },
          "execution_count": 29
        }
      ]
    },
    {
      "cell_type": "code",
      "metadata": {
        "id": "4-YTBiYk2CFg",
        "outputId": "b39a0eff-cd82-408d-e15c-db747362e434",
        "colab": {
          "base_uri": "https://localhost:8080/",
          "height": 164
        }
      },
      "source": [
        "arr =np.array([1,2,'Apple',3.14],dtype=int) #Error"
      ],
      "execution_count": 33,
      "outputs": [
        {
          "output_type": "error",
          "ename": "ValueError",
          "evalue": "ignored",
          "traceback": [
            "\u001b[0;31m---------------------------------------------------------------------------\u001b[0m",
            "\u001b[0;31mValueError\u001b[0m                                Traceback (most recent call last)",
            "\u001b[0;32m<ipython-input-33-23e311830484>\u001b[0m in \u001b[0;36m<module>\u001b[0;34m()\u001b[0m\n\u001b[0;32m----> 1\u001b[0;31m \u001b[0marr\u001b[0m \u001b[0;34m=\u001b[0m\u001b[0mnp\u001b[0m\u001b[0;34m.\u001b[0m\u001b[0marray\u001b[0m\u001b[0;34m(\u001b[0m\u001b[0;34m[\u001b[0m\u001b[0;36m1\u001b[0m\u001b[0;34m,\u001b[0m\u001b[0;36m2\u001b[0m\u001b[0;34m,\u001b[0m\u001b[0;34m'Apple'\u001b[0m\u001b[0;34m,\u001b[0m\u001b[0;36m3.14\u001b[0m\u001b[0;34m]\u001b[0m\u001b[0;34m,\u001b[0m\u001b[0mdtype\u001b[0m\u001b[0;34m=\u001b[0m\u001b[0mint\u001b[0m\u001b[0;34m)\u001b[0m \u001b[0;31m#Error\u001b[0m\u001b[0;34m\u001b[0m\u001b[0;34m\u001b[0m\u001b[0m\n\u001b[0m",
            "\u001b[0;31mValueError\u001b[0m: invalid literal for int() with base 10: 'Apple'"
          ]
        }
      ]
    },
    {
      "cell_type": "code",
      "metadata": {
        "id": "KWwP0J0l2CaH"
      },
      "source": [
        "arr =np.array([1,2,'1234',3.14],dtype=int) #No error"
      ],
      "execution_count": 32,
      "outputs": []
    },
    {
      "cell_type": "code",
      "metadata": {
        "id": "KTFYG40C2CdP"
      },
      "source": [
        ""
      ],
      "execution_count": null,
      "outputs": []
    },
    {
      "cell_type": "code",
      "metadata": {
        "id": "4IMt6Wwx2CVh",
        "outputId": "9bcd555f-4d45-42ed-9517-d1fd0761ebc0",
        "colab": {
          "base_uri": "https://localhost:8080/"
        }
      },
      "source": [
        "# Slicing - Selecting parts from array \n",
        "arr = np.array([0,1,2,3,4,5,6,7,8,9])\n",
        "arr.shape\n",
        "\n",
        "# Using index\n",
        "arr[9]"
      ],
      "execution_count": 38,
      "outputs": [
        {
          "output_type": "execute_result",
          "data": {
            "text/plain": [
              "9"
            ]
          },
          "metadata": {
            "tags": []
          },
          "execution_count": 38
        }
      ]
    },
    {
      "cell_type": "code",
      "metadata": {
        "id": "bGKS-BKO2B8v",
        "outputId": "cdd88538-5551-4ab8-daf3-af95c2da490b",
        "colab": {
          "base_uri": "https://localhost:8080/"
        }
      },
      "source": [
        "arr[-1] # Counts from backwards "
      ],
      "execution_count": 39,
      "outputs": [
        {
          "output_type": "execute_result",
          "data": {
            "text/plain": [
              "9"
            ]
          },
          "metadata": {
            "tags": []
          },
          "execution_count": 39
        }
      ]
    },
    {
      "cell_type": "code",
      "metadata": {
        "id": "lbSLtCbk2Bpk",
        "outputId": "282b27f8-fbae-4497-aac2-a439fe140cf6",
        "colab": {
          "base_uri": "https://localhost:8080/"
        }
      },
      "source": [
        "# 2D array\n",
        "arr2d=np.array([[1,2,3,4],[5,6,7,8],[9,10,11,12]])\n",
        "\n",
        "arr2d.shape"
      ],
      "execution_count": 43,
      "outputs": [
        {
          "output_type": "execute_result",
          "data": {
            "text/plain": [
              "(3, 4)"
            ]
          },
          "metadata": {
            "tags": []
          },
          "execution_count": 43
        }
      ]
    },
    {
      "cell_type": "code",
      "metadata": {
        "id": "il4RvzyT6mP5",
        "outputId": "8111bdea-3c2e-49e5-aa42-24e8fb95ea07",
        "colab": {
          "base_uri": "https://localhost:8080/"
        }
      },
      "source": [
        "arr2d[0,2]"
      ],
      "execution_count": 44,
      "outputs": [
        {
          "output_type": "execute_result",
          "data": {
            "text/plain": [
              "3"
            ]
          },
          "metadata": {
            "tags": []
          },
          "execution_count": 44
        }
      ]
    },
    {
      "cell_type": "code",
      "metadata": {
        "id": "QE9Tx_a96l9N",
        "outputId": "bef237a2-66d7-46f5-ee84-9b54db1320ab",
        "colab": {
          "base_uri": "https://localhost:8080/"
        }
      },
      "source": [
        "arr2d[2,1]"
      ],
      "execution_count": 45,
      "outputs": [
        {
          "output_type": "execute_result",
          "data": {
            "text/plain": [
              "10"
            ]
          },
          "metadata": {
            "tags": []
          },
          "execution_count": 45
        }
      ]
    },
    {
      "cell_type": "code",
      "metadata": {
        "id": "QnjP_Nh66l0u",
        "outputId": "e7c8393f-c8e8-41a4-8e16-9c28d665ca64",
        "colab": {
          "base_uri": "https://localhost:8080/"
        }
      },
      "source": [
        "# Range \n",
        "# one dimensional \n",
        "arr"
      ],
      "execution_count": 46,
      "outputs": [
        {
          "output_type": "execute_result",
          "data": {
            "text/plain": [
              "array([0, 1, 2, 3, 4, 5, 6, 7, 8, 9])"
            ]
          },
          "metadata": {
            "tags": []
          },
          "execution_count": 46
        }
      ]
    },
    {
      "cell_type": "code",
      "metadata": {
        "id": "hlow-dTq7Baz",
        "outputId": "a318fe25-222d-4d06-f310-8afce0f5bf0d",
        "colab": {
          "base_uri": "https://localhost:8080/"
        }
      },
      "source": [
        "arr[1:] #index 1 to the end"
      ],
      "execution_count": 48,
      "outputs": [
        {
          "output_type": "execute_result",
          "data": {
            "text/plain": [
              "array([1, 2, 3, 4, 5, 6, 7, 8, 9])"
            ]
          },
          "metadata": {
            "tags": []
          },
          "execution_count": 48
        }
      ]
    },
    {
      "cell_type": "code",
      "metadata": {
        "id": "Mk4W64UV7BsP",
        "outputId": "8fff4879-6369-4160-c225-cf2accff107e",
        "colab": {
          "base_uri": "https://localhost:8080/"
        }
      },
      "source": [
        "arr[:5] #index less than 5"
      ],
      "execution_count": 50,
      "outputs": [
        {
          "output_type": "execute_result",
          "data": {
            "text/plain": [
              "array([0, 1, 2, 3, 4])"
            ]
          },
          "metadata": {
            "tags": []
          },
          "execution_count": 50
        }
      ]
    },
    {
      "cell_type": "code",
      "metadata": {
        "id": "MMIc9diF7BNT",
        "outputId": "e4cc4b7c-1384-4580-cb54-7dbbb8664719",
        "colab": {
          "base_uri": "https://localhost:8080/"
        }
      },
      "source": [
        "arr [1:5] # from index 1-5 : does not include index5, but the 5th element "
      ],
      "execution_count": 52,
      "outputs": [
        {
          "output_type": "execute_result",
          "data": {
            "text/plain": [
              "array([1, 2, 3, 4])"
            ]
          },
          "metadata": {
            "tags": []
          },
          "execution_count": 52
        }
      ]
    },
    {
      "cell_type": "code",
      "metadata": {
        "id": "EO4X3w687l_o",
        "outputId": "266353e4-dc5b-4aa7-f8b2-06a269690e12",
        "colab": {
          "base_uri": "https://localhost:8080/"
        }
      },
      "source": [
        "# Range \n",
        "# 2-dimensional \n",
        "\n",
        "arr2d=np.array([[1,2,3,4],[5,6,7,8],[9,10,11,12]])\n",
        "arr2d[0,:] # Bring all data from the first row(index=0)"
      ],
      "execution_count": 54,
      "outputs": [
        {
          "output_type": "execute_result",
          "data": {
            "text/plain": [
              "array([1, 2, 3, 4])"
            ]
          },
          "metadata": {
            "tags": []
          },
          "execution_count": 54
        }
      ]
    },
    {
      "cell_type": "code",
      "metadata": {
        "id": "igGs-x4n7t3W",
        "outputId": "b105750f-386e-4f4d-8ba2-714feae92ef3",
        "colab": {
          "base_uri": "https://localhost:8080/"
        }
      },
      "source": [
        "# Bring all data from the second column\n",
        "arr2d[:,2]"
      ],
      "execution_count": 56,
      "outputs": [
        {
          "output_type": "execute_result",
          "data": {
            "text/plain": [
              "array([ 3,  7, 11])"
            ]
          },
          "metadata": {
            "tags": []
          },
          "execution_count": 56
        }
      ]
    },
    {
      "cell_type": "code",
      "metadata": {
        "id": "NNufvQRv7tv9",
        "outputId": "3e20f374-e928-4981-ceda-ba46d1f290a4",
        "colab": {
          "base_uri": "https://localhost:8080/"
        }
      },
      "source": [
        "arr2d[:2,:]"
      ],
      "execution_count": 57,
      "outputs": [
        {
          "output_type": "execute_result",
          "data": {
            "text/plain": [
              "array([[1, 2, 3, 4],\n",
              "       [5, 6, 7, 8]])"
            ]
          },
          "metadata": {
            "tags": []
          },
          "execution_count": 57
        }
      ]
    },
    {
      "cell_type": "code",
      "metadata": {
        "id": "e1uEWEuP7l2j",
        "outputId": "34719351-a09b-4648-fb0f-232103f59c1d",
        "colab": {
          "base_uri": "https://localhost:8080/"
        }
      },
      "source": [
        "arr2d[:2,2:]"
      ],
      "execution_count": 58,
      "outputs": [
        {
          "output_type": "execute_result",
          "data": {
            "text/plain": [
              "array([[3, 4],\n",
              "       [7, 8]])"
            ]
          },
          "metadata": {
            "tags": []
          },
          "execution_count": 58
        }
      ]
    },
    {
      "cell_type": "code",
      "metadata": {
        "id": "qGaX40F48hUZ",
        "outputId": "9c7fbd51-2e96-4df0-d6e3-dd27688bc6c1",
        "colab": {
          "base_uri": "https://localhost:8080/"
        }
      },
      "source": [
        "# Fancy Indexing: Used to select group of indexes not in the order of range  \n",
        "\n",
        "arr =np.array([10,23,2,7,90,65,32,66,70])\n",
        "idx= [1,3,5]\n",
        "arr[idx] # Cool!"
      ],
      "execution_count": 63,
      "outputs": [
        {
          "output_type": "execute_result",
          "data": {
            "text/plain": [
              "array([23,  7, 65])"
            ]
          },
          "metadata": {
            "tags": []
          },
          "execution_count": 63
        }
      ]
    },
    {
      "cell_type": "code",
      "metadata": {
        "id": "18FPbFc88hMO",
        "outputId": "d8e6ef7d-a5ee-4f21-9a4f-8bda3f3d635b",
        "colab": {
          "base_uri": "https://localhost:8080/"
        }
      },
      "source": [
        "#2D array \n",
        "arr2d[[0,1],:]"
      ],
      "execution_count": 64,
      "outputs": [
        {
          "output_type": "execute_result",
          "data": {
            "text/plain": [
              "array([[1, 2, 3, 4],\n",
              "       [5, 6, 7, 8]])"
            ]
          },
          "metadata": {
            "tags": []
          },
          "execution_count": 64
        }
      ]
    },
    {
      "cell_type": "code",
      "metadata": {
        "id": "VfhkcBl79kHF",
        "outputId": "4ce0d85c-ab50-44f3-bbab-a95db701f364",
        "colab": {
          "base_uri": "https://localhost:8080/"
        }
      },
      "source": [
        "arr2d[:,[1,2,3]] #everything except for the first element(index=0) from all arrays"
      ],
      "execution_count": 65,
      "outputs": [
        {
          "output_type": "execute_result",
          "data": {
            "text/plain": [
              "array([[ 2,  3,  4],\n",
              "       [ 6,  7,  8],\n",
              "       [10, 11, 12]])"
            ]
          },
          "metadata": {
            "tags": []
          },
          "execution_count": 65
        }
      ]
    },
    {
      "cell_type": "code",
      "metadata": {
        "id": "XvjAe6UT9kRc",
        "outputId": "f984899d-044f-4a62-9dc3-39383db812ff",
        "colab": {
          "base_uri": "https://localhost:8080/"
        }
      },
      "source": [
        "# Boolean Indexing \n",
        "# Boolean indexing Through conditional filtering\n",
        "arr=np.array([1,2,3,4,5,6,7])\n",
        "arr2d=np.array([[1,2,3,4],[5,6,7,8],[9,10,11,12]])\n",
        "TrueFalse=[True, False, True]\n",
        "#arr[TrueFalse] #IndexError: boolean index did not match indexed array along dimension 0; dimension is 7 but corresponding boolean dimension is 3\n",
        "TF = [True, False, True,False,True, False, True] # needs same length \n",
        "arr[TF]  #TRUE=1,3,5,7/FALSE=2,4,6"
      ],
      "execution_count": 67,
      "outputs": [
        {
          "output_type": "execute_result",
          "data": {
            "text/plain": [
              "array([1, 3, 5, 7])"
            ]
          },
          "metadata": {
            "tags": []
          },
          "execution_count": 67
        }
      ]
    },
    {
      "cell_type": "code",
      "metadata": {
        "id": "okyKkOsn9kWG",
        "outputId": "273ae2c7-3a1e-4462-ad40-90fa18094c1f",
        "colab": {
          "base_uri": "https://localhost:8080/"
        }
      },
      "source": [
        "# Conditional Filtering\n",
        "arr2d > 0 "
      ],
      "execution_count": 68,
      "outputs": [
        {
          "output_type": "execute_result",
          "data": {
            "text/plain": [
              "array([[ True,  True,  True,  True],\n",
              "       [ True,  True,  True,  True],\n",
              "       [ True,  True,  True,  True]])"
            ]
          },
          "metadata": {
            "tags": []
          },
          "execution_count": 68
        }
      ]
    },
    {
      "cell_type": "code",
      "metadata": {
        "id": "8zTj3B4N9kam",
        "outputId": "7d32a542-3eb9-4d04-bc5d-0e760b91eb13",
        "colab": {
          "base_uri": "https://localhost:8080/"
        }
      },
      "source": [
        "arr2d > 5"
      ],
      "execution_count": 69,
      "outputs": [
        {
          "output_type": "execute_result",
          "data": {
            "text/plain": [
              "array([[False, False, False, False],\n",
              "       [False,  True,  True,  True],\n",
              "       [ True,  True,  True,  True]])"
            ]
          },
          "metadata": {
            "tags": []
          },
          "execution_count": 69
        }
      ]
    },
    {
      "cell_type": "code",
      "metadata": {
        "id": "73423WBn9kT-",
        "outputId": "360f7bd0-d1e5-4442-d88a-6c5296c2ab84",
        "colab": {
          "base_uri": "https://localhost:8080/"
        }
      },
      "source": [
        "arr2d [arr2d >2]"
      ],
      "execution_count": 70,
      "outputs": [
        {
          "output_type": "execute_result",
          "data": {
            "text/plain": [
              "array([ 3,  4,  5,  6,  7,  8,  9, 10, 11, 12])"
            ]
          },
          "metadata": {
            "tags": []
          },
          "execution_count": 70
        }
      ]
    },
    {
      "cell_type": "code",
      "metadata": {
        "id": "LElr7izw9kKf",
        "outputId": "7c8c3662-c3e9-478f-f1a4-ccabe537e154",
        "colab": {
          "base_uri": "https://localhost:8080/"
        }
      },
      "source": [
        "arr2d[arr2d <5]"
      ],
      "execution_count": 71,
      "outputs": [
        {
          "output_type": "execute_result",
          "data": {
            "text/plain": [
              "array([1, 2, 3, 4])"
            ]
          },
          "metadata": {
            "tags": []
          },
          "execution_count": 71
        }
      ]
    },
    {
      "cell_type": "code",
      "metadata": {
        "id": "U7CG9n219j-f",
        "outputId": "5012ec1e-220c-4010-b934-511e22d2e362",
        "colab": {
          "base_uri": "https://localhost:8080/"
        }
      },
      "source": [
        "# Arange \n",
        "arr= [1,2,3,4,5,6,7,8,9,10]\n",
        "arr"
      ],
      "execution_count": 77,
      "outputs": [
        {
          "output_type": "execute_result",
          "data": {
            "text/plain": [
              "[1, 2, 3, 4, 5, 6, 7, 8, 9, 10]"
            ]
          },
          "metadata": {
            "tags": []
          },
          "execution_count": 77
        }
      ]
    },
    {
      "cell_type": "code",
      "metadata": {
        "id": "mISt7AyrAphB",
        "outputId": "b416b0ba-1454-4061-b90c-3114a58a5dc0",
        "colab": {
          "base_uri": "https://localhost:8080/"
        }
      },
      "source": [
        "arr =np.arange(start=1,stop=11)\n",
        "arr"
      ],
      "execution_count": 78,
      "outputs": [
        {
          "output_type": "execute_result",
          "data": {
            "text/plain": [
              "array([ 1,  2,  3,  4,  5,  6,  7,  8,  9, 10])"
            ]
          },
          "metadata": {
            "tags": []
          },
          "execution_count": 78
        }
      ]
    },
    {
      "cell_type": "code",
      "metadata": {
        "id": "9PhwwYV2Apwk",
        "outputId": "5d07ee5a-9bcb-40eb-cd38-6f7343d046a4",
        "colab": {
          "base_uri": "https://localhost:8080/"
        }
      },
      "source": [
        "# Odd numbers between 1 and 10\n",
        "arr = np.arange(1,11,2)\n",
        "arr "
      ],
      "execution_count": 82,
      "outputs": [
        {
          "output_type": "execute_result",
          "data": {
            "text/plain": [
              "array([1, 3, 5, 7, 9])"
            ]
          },
          "metadata": {
            "tags": []
          },
          "execution_count": 82
        }
      ]
    },
    {
      "cell_type": "code",
      "metadata": {
        "id": "fziBFtiYAp1T",
        "outputId": "976ae98f-b9f1-4e17-a4f3-001c448b94f1",
        "colab": {
          "base_uri": "https://localhost:8080/"
        }
      },
      "source": [
        "arr = np.arange(start=1,stop=11,step=2)\n",
        "arr"
      ],
      "execution_count": 83,
      "outputs": [
        {
          "output_type": "execute_result",
          "data": {
            "text/plain": [
              "array([1, 3, 5, 7, 9])"
            ]
          },
          "metadata": {
            "tags": []
          },
          "execution_count": 83
        }
      ]
    },
    {
      "cell_type": "code",
      "metadata": {
        "id": "_a0Ut6d5Apmz",
        "outputId": "12e465f0-59d4-44cd-f790-fd5d8d46fa67",
        "colab": {
          "base_uri": "https://localhost:8080/"
        }
      },
      "source": [
        "# Python's range vs Numpy's arange\n",
        "arr=np.arange(1,11)\n",
        "for i in arr:\n",
        "  print(i)"
      ],
      "execution_count": 90,
      "outputs": [
        {
          "output_type": "stream",
          "text": [
            "1\n",
            "2\n",
            "3\n",
            "4\n",
            "5\n",
            "6\n",
            "7\n",
            "8\n",
            "9\n",
            "10\n"
          ],
          "name": "stdout"
        }
      ]
    },
    {
      "cell_type": "code",
      "metadata": {
        "id": "iEtVgKbKBafU",
        "outputId": "40c8ce67-992d-4415-bc02-ba663ed9d89a",
        "colab": {
          "base_uri": "https://localhost:8080/"
        }
      },
      "source": [
        "for i in range(1,11):\n",
        "  print(i)"
      ],
      "execution_count": 89,
      "outputs": [
        {
          "output_type": "stream",
          "text": [
            "1\n",
            "2\n",
            "3\n",
            "4\n",
            "5\n",
            "6\n",
            "7\n",
            "8\n",
            "9\n",
            "10\n"
          ],
          "name": "stdout"
        }
      ]
    },
    {
      "cell_type": "code",
      "metadata": {
        "id": "v0Ve-gOSBakc",
        "outputId": "f371e0c2-9e00-45f4-ba1a-6d46e8ef8d0e",
        "colab": {
          "base_uri": "https://localhost:8080/"
        }
      },
      "source": [
        "# Using functions: np.ones , np.zeros\n",
        "np.ones((4,5)) #Fill 4th row, 5th column with 1s "
      ],
      "execution_count": 91,
      "outputs": [
        {
          "output_type": "execute_result",
          "data": {
            "text/plain": [
              "array([[1., 1., 1., 1., 1.],\n",
              "       [1., 1., 1., 1., 1.],\n",
              "       [1., 1., 1., 1., 1.],\n",
              "       [1., 1., 1., 1., 1.]])"
            ]
          },
          "metadata": {
            "tags": []
          },
          "execution_count": 91
        }
      ]
    },
    {
      "cell_type": "code",
      "metadata": {
        "id": "ceo27VujBaqP",
        "outputId": "e000979e-a613-43f9-e6fa-df7aa5127343",
        "colab": {
          "base_uri": "https://localhost:8080/"
        }
      },
      "source": [
        "np.ones((3,3))"
      ],
      "execution_count": 92,
      "outputs": [
        {
          "output_type": "execute_result",
          "data": {
            "text/plain": [
              "array([[1., 1., 1.],\n",
              "       [1., 1., 1.],\n",
              "       [1., 1., 1.]])"
            ]
          },
          "metadata": {
            "tags": []
          },
          "execution_count": 92
        }
      ]
    },
    {
      "cell_type": "code",
      "metadata": {
        "id": "qp-DDPgHBaoD",
        "outputId": "ca4ce7a5-ff48-43f9-a620-9003dd392191",
        "colab": {
          "base_uri": "https://localhost:8080/"
        }
      },
      "source": [
        "np.ones((2,3,4))"
      ],
      "execution_count": 93,
      "outputs": [
        {
          "output_type": "execute_result",
          "data": {
            "text/plain": [
              "array([[[1., 1., 1., 1.],\n",
              "        [1., 1., 1., 1.],\n",
              "        [1., 1., 1., 1.]],\n",
              "\n",
              "       [[1., 1., 1., 1.],\n",
              "        [1., 1., 1., 1.],\n",
              "        [1., 1., 1., 1.]]])"
            ]
          },
          "metadata": {
            "tags": []
          },
          "execution_count": 93
        }
      ]
    },
    {
      "cell_type": "code",
      "metadata": {
        "id": "w31ESVYVCJgW",
        "outputId": "28942bed-00d9-439f-f09c-ce76e19894d8",
        "colab": {
          "base_uri": "https://localhost:8080/"
        }
      },
      "source": [
        "# Using np.full\n",
        "np.full((3,4,2),7) #Fill all 3 of 4*2 matrices with 7  "
      ],
      "execution_count": 94,
      "outputs": [
        {
          "output_type": "execute_result",
          "data": {
            "text/plain": [
              "array([[[7, 7],\n",
              "        [7, 7],\n",
              "        [7, 7],\n",
              "        [7, 7]],\n",
              "\n",
              "       [[7, 7],\n",
              "        [7, 7],\n",
              "        [7, 7],\n",
              "        [7, 7]],\n",
              "\n",
              "       [[7, 7],\n",
              "        [7, 7],\n",
              "        [7, 7],\n",
              "        [7, 7]]])"
            ]
          },
          "metadata": {
            "tags": []
          },
          "execution_count": 94
        }
      ]
    },
    {
      "cell_type": "code",
      "metadata": {
        "id": "HrtiD-oSCJlk",
        "outputId": "7338b360-d11b-4906-e3c2-94969a277197",
        "colab": {
          "base_uri": "https://localhost:8080/"
        }
      },
      "source": [
        "# Using np.linspace \n",
        "np.linspace(1,10,3) #(first element,last element, total number of elements with same length)\n"
      ],
      "execution_count": 95,
      "outputs": [
        {
          "output_type": "execute_result",
          "data": {
            "text/plain": [
              "array([ 1. ,  5.5, 10. ])"
            ]
          },
          "metadata": {
            "tags": []
          },
          "execution_count": 95
        }
      ]
    },
    {
      "cell_type": "code",
      "metadata": {
        "id": "IA0npHmcCJjF",
        "outputId": "d4cb369e-20d3-4bd5-9267-57ea7e50ebb4",
        "colab": {
          "base_uri": "https://localhost:8080/"
        }
      },
      "source": [
        "np.linspace(1,10,4)"
      ],
      "execution_count": 96,
      "outputs": [
        {
          "output_type": "execute_result",
          "data": {
            "text/plain": [
              "array([ 1.,  4.,  7., 10.])"
            ]
          },
          "metadata": {
            "tags": []
          },
          "execution_count": 96
        }
      ]
    },
    {
      "cell_type": "code",
      "metadata": {
        "id": "LhIMgsAmCJdn",
        "outputId": "19632c4c-1dd2-4146-8a41-bd67b0c0b920",
        "colab": {
          "base_uri": "https://localhost:8080/"
        }
      },
      "source": [
        "np.linspace(1,10,5)"
      ],
      "execution_count": 97,
      "outputs": [
        {
          "output_type": "execute_result",
          "data": {
            "text/plain": [
              "array([ 1.  ,  3.25,  5.5 ,  7.75, 10.  ])"
            ]
          },
          "metadata": {
            "tags": []
          },
          "execution_count": 97
        }
      ]
    },
    {
      "cell_type": "code",
      "metadata": {
        "id": "GFA2K7VJBaiM",
        "outputId": "78dddc35-804d-487d-bcb0-5550ec83c06d",
        "colab": {
          "base_uri": "https://localhost:8080/"
        }
      },
      "source": [
        "# If no distance/ number,  default = 50\n",
        "np.linspace(1,10)"
      ],
      "execution_count": 98,
      "outputs": [
        {
          "output_type": "execute_result",
          "data": {
            "text/plain": [
              "array([ 1.        ,  1.18367347,  1.36734694,  1.55102041,  1.73469388,\n",
              "        1.91836735,  2.10204082,  2.28571429,  2.46938776,  2.65306122,\n",
              "        2.83673469,  3.02040816,  3.20408163,  3.3877551 ,  3.57142857,\n",
              "        3.75510204,  3.93877551,  4.12244898,  4.30612245,  4.48979592,\n",
              "        4.67346939,  4.85714286,  5.04081633,  5.2244898 ,  5.40816327,\n",
              "        5.59183673,  5.7755102 ,  5.95918367,  6.14285714,  6.32653061,\n",
              "        6.51020408,  6.69387755,  6.87755102,  7.06122449,  7.24489796,\n",
              "        7.42857143,  7.6122449 ,  7.79591837,  7.97959184,  8.16326531,\n",
              "        8.34693878,  8.53061224,  8.71428571,  8.89795918,  9.08163265,\n",
              "        9.26530612,  9.44897959,  9.63265306,  9.81632653, 10.        ])"
            ]
          },
          "metadata": {
            "tags": []
          },
          "execution_count": 98
        }
      ]
    },
    {
      "cell_type": "code",
      "metadata": {
        "id": "Nz1TIJfrBaD3",
        "outputId": "5a2e91fb-f95a-43aa-94c6-accffe5cd22f",
        "colab": {
          "base_uri": "https://localhost:8080/"
        }
      },
      "source": [
        "# Using np.reshape\n",
        "# Used to alter structure, dimension of the nd array\n",
        "x= np.arange(1,16)\n",
        "np.shape(x) "
      ],
      "execution_count": 101,
      "outputs": [
        {
          "output_type": "execute_result",
          "data": {
            "text/plain": [
              "(15,)"
            ]
          },
          "metadata": {
            "tags": []
          },
          "execution_count": 101
        }
      ]
    },
    {
      "cell_type": "code",
      "metadata": {
        "id": "PL2BvVXcBaAP",
        "outputId": "97e25e86-65cb-4db8-a807-6f99864e8c71",
        "colab": {
          "base_uri": "https://localhost:8080/"
        }
      },
      "source": [
        "x.reshape(3,5)"
      ],
      "execution_count": 102,
      "outputs": [
        {
          "output_type": "execute_result",
          "data": {
            "text/plain": [
              "array([[ 1,  2,  3,  4,  5],\n",
              "       [ 6,  7,  8,  9, 10],\n",
              "       [11, 12, 13, 14, 15]])"
            ]
          },
          "metadata": {
            "tags": []
          },
          "execution_count": 102
        }
      ]
    },
    {
      "cell_type": "code",
      "metadata": {
        "id": "8wBcJB1dApdF",
        "outputId": "697130b6-445e-42cc-c30b-87bf8686fa8c",
        "colab": {
          "base_uri": "https://localhost:8080/"
        }
      },
      "source": [
        "# Using random sub modules to create ndarray\n",
        "# rand function: rand() - creates random ndarray between 0~10 \n",
        "np.random.rand(4,5,3)\n"
      ],
      "execution_count": 104,
      "outputs": [
        {
          "output_type": "execute_result",
          "data": {
            "text/plain": [
              "array([[[0.83673223, 0.94004946, 0.23249194],\n",
              "        [0.45150303, 0.39970694, 0.26191873],\n",
              "        [0.37556536, 0.36290439, 0.48194189],\n",
              "        [0.89295789, 0.35997003, 0.83001173],\n",
              "        [0.40085047, 0.82770281, 0.87146211]],\n",
              "\n",
              "       [[0.94825659, 0.10112745, 0.3991409 ],\n",
              "        [0.86617238, 0.20423567, 0.56122097],\n",
              "        [0.70615557, 0.91539742, 0.84283539],\n",
              "        [0.75025207, 0.09638784, 0.90853478],\n",
              "        [0.1343318 , 0.46289394, 0.73028013]],\n",
              "\n",
              "       [[0.10403527, 0.19890467, 0.15397382],\n",
              "        [0.51684283, 0.46439934, 0.89986482],\n",
              "        [0.18484267, 0.14222411, 0.97443181],\n",
              "        [0.51044427, 0.10911535, 0.66540664],\n",
              "        [0.95489979, 0.70518053, 0.73964808]],\n",
              "\n",
              "       [[0.7787709 , 0.2870408 , 0.29175939],\n",
              "        [0.6235325 , 0.75412029, 0.95710952],\n",
              "        [0.23430288, 0.01994789, 0.82636557],\n",
              "        [0.54454469, 0.78411184, 0.10780243],\n",
              "        [0.4742284 , 0.46328472, 0.85780142]]])"
            ]
          },
          "metadata": {
            "tags": []
          },
          "execution_count": 104
        }
      ]
    },
    {
      "cell_type": "code",
      "metadata": {
        "id": "pDolq8yHI8WG",
        "outputId": "d7e5db5a-f3f3-4093-96fc-027918390c37",
        "colab": {
          "base_uri": "https://localhost:8080/"
        }
      },
      "source": [
        "# randn() : n -> normal distribution \n",
        "# Creates random ndarray sampled through normal distribution\n",
        "np.random.randn(5)"
      ],
      "execution_count": 105,
      "outputs": [
        {
          "output_type": "execute_result",
          "data": {
            "text/plain": [
              "array([0.58401927, 0.31456302, 0.18879254, 2.48193762, 0.86576818])"
            ]
          },
          "metadata": {
            "tags": []
          },
          "execution_count": 105
        }
      ]
    },
    {
      "cell_type": "code",
      "metadata": {
        "id": "VFE1Ac6rI8w-",
        "outputId": "1eeaa66a-d439-4550-fe47-0f0e8c82be74",
        "colab": {
          "base_uri": "https://localhost:8080/"
        }
      },
      "source": [
        "np.random.randn(4,5,3)"
      ],
      "execution_count": 106,
      "outputs": [
        {
          "output_type": "execute_result",
          "data": {
            "text/plain": [
              "array([[[ 4.54343230e-01,  5.66193336e-01,  1.29997407e+00],\n",
              "        [ 1.25829668e+00,  1.53982915e-01, -1.15673635e+00],\n",
              "        [ 3.61698528e-01,  1.14263196e+00, -1.55251016e-01],\n",
              "        [-1.93207425e+00,  1.32147109e+00, -1.81788158e+00],\n",
              "        [ 4.21979797e-01, -6.25199692e-01,  1.92760255e-01]],\n",
              "\n",
              "       [[ 3.46495013e-01, -1.06178027e+00, -3.51175677e+00],\n",
              "        [ 2.93162197e-03, -9.27254946e-02,  4.38643721e-01],\n",
              "        [-5.82157104e-01, -1.04885239e-01,  1.14324537e+00],\n",
              "        [ 1.01534526e+00,  9.65480232e-01, -6.84228466e-01],\n",
              "        [-5.07418286e-01,  7.96788326e-01,  1.20186049e+00]],\n",
              "\n",
              "       [[ 7.20673716e-01, -8.29432991e-01,  1.04052934e+00],\n",
              "        [-6.59275162e-01,  5.50019316e-01,  1.04405925e+00],\n",
              "        [-4.86850403e-01,  1.18065009e+00, -1.52629680e+00],\n",
              "        [ 1.78136205e+00, -6.51149616e-01,  1.60402527e-01],\n",
              "        [ 6.36830563e-01,  1.57683721e+00,  6.47779669e-01]],\n",
              "\n",
              "       [[ 2.87804554e-01,  1.61080890e-01, -1.83120376e+00],\n",
              "        [ 2.27094266e+00,  8.06818053e-01,  7.10487699e-02],\n",
              "        [ 3.01630686e-02, -1.01325953e-01, -1.25456632e-01],\n",
              "        [ 8.01333888e-01, -9.02441483e-01,  4.43429594e-01],\n",
              "        [-2.28794361e-01,  5.53263412e-01, -1.29058871e-01]]])"
            ]
          },
          "metadata": {
            "tags": []
          },
          "execution_count": 106
        }
      ]
    },
    {
      "cell_type": "code",
      "metadata": {
        "id": "5BHLUPVqI823",
        "outputId": "0422100e-065e-400b-f121-17845ead8e9c",
        "colab": {
          "base_uri": "https://localhost:8080/"
        }
      },
      "source": [
        "# randint(): creates ndarray through random sampling between certain numbers\n",
        "np.random.randint(1,100,size=(5,))"
      ],
      "execution_count": 107,
      "outputs": [
        {
          "output_type": "execute_result",
          "data": {
            "text/plain": [
              "array([70, 19, 22, 68, 88])"
            ]
          },
          "metadata": {
            "tags": []
          },
          "execution_count": 107
        }
      ]
    },
    {
      "cell_type": "code",
      "metadata": {
        "id": "pYgyxl4yI8ti",
        "outputId": "9f4cd07b-94e8-4736-bffd-e45c4e20bac5",
        "colab": {
          "base_uri": "https://localhost:8080/"
        }
      },
      "source": [
        "np.random.randint(1,100,size=(5,2))"
      ],
      "execution_count": 108,
      "outputs": [
        {
          "output_type": "execute_result",
          "data": {
            "text/plain": [
              "array([[77, 25],\n",
              "       [82, 21],\n",
              "       [74, 32],\n",
              "       [17, 44],\n",
              "       [37, 35]])"
            ]
          },
          "metadata": {
            "tags": []
          },
          "execution_count": 108
        }
      ]
    },
    {
      "cell_type": "code",
      "metadata": {
        "id": "JUd-MJ3kJzFo",
        "outputId": "1a69b25c-e1f5-4850-edae-20488f9b4f3a",
        "colab": {
          "base_uri": "https://localhost:8080/"
        }
      },
      "source": [
        "# seed():  Used to create random number in an equal way\n",
        "#       :  keeps the same randome number \n",
        "np.random.seed(20)\n",
        "np.random.randn(3,4)\n"
      ],
      "execution_count": 113,
      "outputs": [
        {
          "output_type": "execute_result",
          "data": {
            "text/plain": [
              "array([[ 0.88389311,  0.19586502,  0.35753652, -2.34326191],\n",
              "       [-1.08483259,  0.55969629,  0.93946935, -0.97848104],\n",
              "       [ 0.50309684,  0.40641447,  0.32346101, -0.49341088]])"
            ]
          },
          "metadata": {
            "tags": []
          },
          "execution_count": 113
        }
      ]
    },
    {
      "cell_type": "code",
      "metadata": {
        "id": "IgRxW-WOJzNi",
        "outputId": "897869bb-b03a-457d-c714-118b4a764123",
        "colab": {
          "base_uri": "https://localhost:8080/"
        }
      },
      "source": [
        "# choice(): random sampling from given 1d array\n",
        "# If an integer is given > np.arrange(num) \n",
        "x=np.array([1,2,3,1.5,2.6,4.9])\n",
        "np.random.choice(x,size=(2,2))"
      ],
      "execution_count": 114,
      "outputs": [
        {
          "output_type": "execute_result",
          "data": {
            "text/plain": [
              "array([[3. , 2. ],\n",
              "       [1.5, 3. ]])"
            ]
          },
          "metadata": {
            "tags": []
          },
          "execution_count": 114
        }
      ]
    },
    {
      "cell_type": "code",
      "metadata": {
        "id": "lggyhu4YJzKv",
        "outputId": "d7b5e8fd-00b5-4e3a-e022-1e30f0036596",
        "colab": {
          "base_uri": "https://localhost:8080/"
        }
      },
      "source": [
        "x=np.array([1,2,3,1.5,2.6,4.9])\n",
        "np.random.choice(x,size=(2,2),replace=False)"
      ],
      "execution_count": 115,
      "outputs": [
        {
          "output_type": "execute_result",
          "data": {
            "text/plain": [
              "array([[2.6, 1. ],\n",
              "       [3. , 2. ]])"
            ]
          },
          "metadata": {
            "tags": []
          },
          "execution_count": 115
        }
      ]
    },
    {
      "cell_type": "code",
      "metadata": {
        "id": "8HvyGStvJy8R",
        "outputId": "5982bbfd-d28b-4677-82a4-0c788aba339a",
        "colab": {
          "base_uri": "https://localhost:8080/"
        }
      },
      "source": [
        "np.random.choice(100, size=(3,4))"
      ],
      "execution_count": 116,
      "outputs": [
        {
          "output_type": "execute_result",
          "data": {
            "text/plain": [
              "array([[32, 10,  6, 75],\n",
              "       [18,  3, 77, 17],\n",
              "       [43, 16, 18, 79]])"
            ]
          },
          "metadata": {
            "tags": []
          },
          "execution_count": 116
        }
      ]
    },
    {
      "cell_type": "code",
      "metadata": {
        "id": "SUxuc3x1Lx8t",
        "outputId": "0039e4e4-b885-4138-e7d9-d801d8b722ed",
        "colab": {
          "base_uri": "https://localhost:8080/"
        }
      },
      "source": [
        "# Creating nd array using Probability distribution\n",
        "# uniform()\n",
        "np.random.uniform(1.0,3.0,size=(4,5))"
      ],
      "execution_count": 117,
      "outputs": [
        {
          "output_type": "execute_result",
          "data": {
            "text/plain": [
              "array([[2.30157183, 1.53759048, 1.13464933, 2.54289028, 1.96196826],\n",
              "       [1.65841282, 2.02128211, 1.52725766, 1.6210231 , 2.25370688],\n",
              "       [2.11489962, 1.63715912, 1.78968644, 1.51594917, 2.16448225],\n",
              "       [1.32325742, 2.19626764, 2.65164715, 1.31278344, 2.46860104]])"
            ]
          },
          "metadata": {
            "tags": []
          },
          "execution_count": 117
        }
      ]
    },
    {
      "cell_type": "code",
      "metadata": {
        "id": "y3C-Mi0bLyGt",
        "outputId": "f180cb80-1343-4661-a717-8e7ed05adf23",
        "colab": {
          "base_uri": "https://localhost:8080/"
        }
      },
      "source": [
        "# normal()\n",
        "np.random.normal(size=(3,4))\n"
      ],
      "execution_count": 118,
      "outputs": [
        {
          "output_type": "execute_result",
          "data": {
            "text/plain": [
              "array([[ 1.38811608, -0.45503777,  0.58238365,  0.61882265],\n",
              "       [ 1.72222527,  0.96625817, -0.95450949,  1.88129696],\n",
              "       [ 0.35041236,  3.77989075,  1.29957816,  0.56336994]])"
            ]
          },
          "metadata": {
            "tags": []
          },
          "execution_count": 118
        }
      ]
    },
    {
      "cell_type": "code",
      "metadata": {
        "id": "Xkg0hpgfLyMp",
        "outputId": "7e46f5ee-7e33-494d-8eb9-5ecd2a79a3d3",
        "colab": {
          "base_uri": "https://localhost:8080/"
        }
      },
      "source": [
        "# Altering ndarray shape (additional to reshape()method)\n",
        "# ravel(): alter multidimensional array into one dimensional array\n",
        "# original data could be changed\n",
        "x = np.arange(15).reshape(3,5)\n",
        "x"
      ],
      "execution_count": 122,
      "outputs": [
        {
          "output_type": "execute_result",
          "data": {
            "text/plain": [
              "array([[ 0,  1,  2,  3,  4],\n",
              "       [ 5,  6,  7,  8,  9],\n",
              "       [10, 11, 12, 13, 14]])"
            ]
          },
          "metadata": {
            "tags": []
          },
          "execution_count": 122
        }
      ]
    },
    {
      "cell_type": "code",
      "metadata": {
        "id": "VHYUfY4aLyVK",
        "outputId": "288cede4-2a95-418c-803e-5185b5f49b80",
        "colab": {
          "base_uri": "https://localhost:8080/"
        }
      },
      "source": [
        "np.ravel(x) # Back to one dimensional array"
      ],
      "execution_count": 124,
      "outputs": [
        {
          "output_type": "execute_result",
          "data": {
            "text/plain": [
              "array([ 0,  1,  2,  3,  4,  5,  6,  7,  8,  9, 10, 11, 12, 13, 14])"
            ]
          },
          "metadata": {
            "tags": []
          },
          "execution_count": 124
        }
      ]
    },
    {
      "cell_type": "code",
      "metadata": {
        "id": "fYXzRqU8Lydj",
        "outputId": "1ef8adf7-5eab-4242-be83-8c3d6e12113c",
        "colab": {
          "base_uri": "https://localhost:8080/"
        }
      },
      "source": [
        "np.ravel(x,order='F') #field first"
      ],
      "execution_count": 125,
      "outputs": [
        {
          "output_type": "execute_result",
          "data": {
            "text/plain": [
              "array([ 0,  5, 10,  1,  6, 11,  2,  7, 12,  3,  8, 13,  4,  9, 14])"
            ]
          },
          "metadata": {
            "tags": []
          },
          "execution_count": 125
        }
      ]
    },
    {
      "cell_type": "code",
      "metadata": {
        "id": "2mvM1aJvN2Wl",
        "outputId": "190369f5-08ed-4488-87c3-607521fec60a",
        "colab": {
          "base_uri": "https://localhost:8080/"
        }
      },
      "source": [
        "x"
      ],
      "execution_count": 131,
      "outputs": [
        {
          "output_type": "execute_result",
          "data": {
            "text/plain": [
              "array([[ 0,  1,  2,  3,  4],\n",
              "       [ 5,  6,  7,  8,  9],\n",
              "       [10, 11, 12, 13, 14]])"
            ]
          },
          "metadata": {
            "tags": []
          },
          "execution_count": 131
        }
      ]
    },
    {
      "cell_type": "code",
      "metadata": {
        "id": "30BhoV_aOTEe",
        "outputId": "7d49b77f-22e4-4195-9a98-362595f622fa",
        "colab": {
          "base_uri": "https://localhost:8080/"
        }
      },
      "source": [
        "temp=x.ravel()\n",
        "temp"
      ],
      "execution_count": 133,
      "outputs": [
        {
          "output_type": "execute_result",
          "data": {
            "text/plain": [
              "array([ 0,  1,  2,  3,  4,  5,  6,  7,  8,  9, 10, 11, 12, 13, 14])"
            ]
          },
          "metadata": {
            "tags": []
          },
          "execution_count": 133
        }
      ]
    },
    {
      "cell_type": "code",
      "metadata": {
        "id": "q9Kcgj6sOV2r",
        "outputId": "2ddfa42c-ced4-4aec-d0f3-cd8f024e75a5",
        "colab": {
          "base_uri": "https://localhost:8080/"
        }
      },
      "source": [
        "temp[0]=100\n",
        "print(temp)\n",
        "print(x)"
      ],
      "execution_count": 134,
      "outputs": [
        {
          "output_type": "stream",
          "text": [
            "[100   1   2   3   4   5   6   7   8   9  10  11  12  13  14]\n",
            "[[100   1   2   3   4]\n",
            " [  5   6   7   8   9]\n",
            " [ 10  11  12  13  14]]\n"
          ],
          "name": "stdout"
        }
      ]
    },
    {
      "cell_type": "code",
      "metadata": {
        "id": "a5rBon6ZLyfg",
        "outputId": "4ec842c1-39da-41ca-ed5b-da30f31089d5",
        "colab": {
          "base_uri": "https://localhost:8080/"
        }
      },
      "source": [
        "# flatten(): alter multidimensional array into one dimensional array\n",
        "# creates a copy of the data, original data could be kept \n",
        "y = np.arange(15).reshape(3,5)\n",
        "y"
      ],
      "execution_count": 128,
      "outputs": [
        {
          "output_type": "execute_result",
          "data": {
            "text/plain": [
              "array([[ 0,  1,  2,  3,  4],\n",
              "       [ 5,  6,  7,  8,  9],\n",
              "       [10, 11, 12, 13, 14]])"
            ]
          },
          "metadata": {
            "tags": []
          },
          "execution_count": 128
        }
      ]
    },
    {
      "cell_type": "code",
      "metadata": {
        "id": "c_Kizy8ZLyiZ",
        "outputId": "412bc04a-7f61-4be0-c09f-927ae9720776",
        "colab": {
          "base_uri": "https://localhost:8080/"
        }
      },
      "source": [
        "t= y.flatten(order=\"F\")\n",
        "t"
      ],
      "execution_count": 129,
      "outputs": [
        {
          "output_type": "execute_result",
          "data": {
            "text/plain": [
              "array([ 0,  5, 10,  1,  6, 11,  2,  7, 12,  3,  8, 13,  4,  9, 14])"
            ]
          },
          "metadata": {
            "tags": []
          },
          "execution_count": 129
        }
      ]
    },
    {
      "cell_type": "code",
      "metadata": {
        "id": "CPSgZkS1LyZp",
        "outputId": "d686ddab-1186-406d-c9f6-c2f0a4fc2686",
        "colab": {
          "base_uri": "https://localhost:8080/"
        }
      },
      "source": [
        "t[0]=100\n",
        "print(t)\n",
        "print(y) # different from ravel, flatten() keeps the original data"
      ],
      "execution_count": 132,
      "outputs": [
        {
          "output_type": "stream",
          "text": [
            "[100   5  10   1   6  11   2   7  12   3   8  13   4   9  14]\n",
            "[[ 0  1  2  3  4]\n",
            " [ 5  6  7  8  9]\n",
            " [10 11 12 13 14]]\n"
          ],
          "name": "stdout"
        }
      ]
    },
    {
      "cell_type": "markdown",
      "metadata": {
        "id": "34nyLnwLOu1Z"
      },
      "source": [
        "## Numpy Documentation\n",
        "- [Numpy Official Document Link](https://www.numpy.org/devdocs/reference/)\n",
        "- The best way to study modules with great examples is THE OFFICIAL DOCUMENT\n"
      ]
    }
  ]
}