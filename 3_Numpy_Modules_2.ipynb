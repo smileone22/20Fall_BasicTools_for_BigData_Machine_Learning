{
  "nbformat": 4,
  "nbformat_minor": 0,
  "metadata": {
    "colab": {
      "name": "3_Numpy_Modules_2.ipynb",
      "provenance": [],
      "authorship_tag": "ABX9TyO65jezsgVRjghsVb4eKpAF",
      "include_colab_link": true
    },
    "kernelspec": {
      "name": "python3",
      "display_name": "Python 3"
    }
  },
  "cells": [
    {
      "cell_type": "markdown",
      "metadata": {
        "id": "view-in-github",
        "colab_type": "text"
      },
      "source": [
        "<a href=\"https://colab.research.google.com/github/smileone22/20Fall_R-BASIC-learningforBigData/blob/master/3_Numpy_Modules_2.ipynb\" target=\"_parent\"><img src=\"https://colab.research.google.com/assets/colab-badge.svg\" alt=\"Open In Colab\"/></a>"
      ]
    },
    {
      "cell_type": "code",
      "metadata": {
        "id": "zbhP3f9B-ScZ"
      },
      "source": [
        "import numpy as np"
      ],
      "execution_count": null,
      "outputs": []
    },
    {
      "cell_type": "markdown",
      "metadata": {
        "id": "I1zK6GAg-qzB"
      },
      "source": [
        "##1. Sorting 1-D array\n",
        "\n",
        "\n"
      ]
    },
    {
      "cell_type": "code",
      "metadata": {
        "colab": {
          "base_uri": "https://localhost:8080/"
        },
        "id": "rxNKdhDV-yuq",
        "outputId": "60898a1e-c3ec-46a2-8ef8-f14c585053e6"
      },
      "source": [
        "arr =np.array([1,10,5,8,2,4,3,6,8,7,9])\n",
        "arr"
      ],
      "execution_count": null,
      "outputs": [
        {
          "output_type": "execute_result",
          "data": {
            "text/plain": [
              "array([ 1, 10,  5,  8,  2,  4,  3,  6,  8,  7,  9])"
            ]
          },
          "metadata": {
            "tags": []
          },
          "execution_count": 2
        }
      ]
    },
    {
      "cell_type": "code",
      "metadata": {
        "colab": {
          "base_uri": "https://localhost:8080/"
        },
        "id": "FxUfvQ5V--Uc",
        "outputId": "e37c3268-bc96-4ee4-9f2a-416a5f9140b4"
      },
      "source": [
        "np.sort(arr) # sorted in ascending order "
      ],
      "execution_count": null,
      "outputs": [
        {
          "output_type": "execute_result",
          "data": {
            "text/plain": [
              "array([ 1,  2,  3,  4,  5,  6,  7,  8,  8,  9, 10])"
            ]
          },
          "metadata": {
            "tags": []
          },
          "execution_count": 4
        }
      ]
    },
    {
      "cell_type": "code",
      "metadata": {
        "colab": {
          "base_uri": "https://localhost:8080/"
        },
        "id": "tGz7MUse_SuY",
        "outputId": "d32f5037-2ef9-4084-92ff-7cb45963fae3"
      },
      "source": [
        "# To sort in descending order, have -1 for option value\n",
        "np.sort(arr)[::-1]"
      ],
      "execution_count": null,
      "outputs": [
        {
          "output_type": "execute_result",
          "data": {
            "text/plain": [
              "array([10,  9,  8,  8,  7,  6,  5,  4,  3,  2,  1])"
            ]
          },
          "metadata": {
            "tags": []
          },
          "execution_count": 5
        }
      ]
    },
    {
      "cell_type": "code",
      "metadata": {
        "colab": {
          "base_uri": "https://localhost:8080/"
        },
        "id": "jP5RIhDt_fO3",
        "outputId": "fa100a7c-55f6-45fb-8ff5-baa304af3f20"
      },
      "source": [
        "arr # The original data set does not get altered\n",
        "# In order to save the sorted array, array should be sorted  "
      ],
      "execution_count": null,
      "outputs": [
        {
          "output_type": "execute_result",
          "data": {
            "text/plain": [
              "array([ 1, 10,  5,  8,  2,  4,  3,  6,  8,  7,  9])"
            ]
          },
          "metadata": {
            "tags": []
          },
          "execution_count": 8
        }
      ]
    },
    {
      "cell_type": "code",
      "metadata": {
        "colab": {
          "base_uri": "https://localhost:8080/"
        },
        "id": "4LGbsUFz_fb9",
        "outputId": "33c146b8-375a-4aae-c2e4-b874cde6244c"
      },
      "source": [
        "arr2 = np.sort(arr) # put returned sorted array to the variable\n",
        "arr2"
      ],
      "execution_count": null,
      "outputs": [
        {
          "output_type": "execute_result",
          "data": {
            "text/plain": [
              "array([ 1,  2,  3,  4,  5,  6,  7,  8,  8,  9, 10])"
            ]
          },
          "metadata": {
            "tags": []
          },
          "execution_count": 10
        }
      ]
    },
    {
      "cell_type": "markdown",
      "metadata": {
        "id": "ttoF2fOuAGGr"
      },
      "source": [
        "## 2. Sorting N-dimensional array "
      ]
    },
    {
      "cell_type": "code",
      "metadata": {
        "colab": {
          "base_uri": "https://localhost:8080/"
        },
        "id": "J7zP8o1R_fDs",
        "outputId": "0760874b-9588-47fb-fa3e-175fdd0234af"
      },
      "source": [
        "arr2d =np.array([[5,6,7,8],[4,3,2,1],[10,9,12,11]])\n",
        "arr2d, arr2d.shape"
      ],
      "execution_count": null,
      "outputs": [
        {
          "output_type": "execute_result",
          "data": {
            "text/plain": [
              "(array([[ 5,  6,  7,  8],\n",
              "        [ 4,  3,  2,  1],\n",
              "        [10,  9, 12, 11]]), (3, 4))"
            ]
          },
          "metadata": {
            "tags": []
          },
          "execution_count": 13
        }
      ]
    },
    {
      "cell_type": "markdown",
      "metadata": {
        "id": "mP6bOj-iAv51"
      },
      "source": [
        "## 2-1. Sorting Columns ( from left to right)"
      ]
    },
    {
      "cell_type": "code",
      "metadata": {
        "colab": {
          "base_uri": "https://localhost:8080/"
        },
        "id": "EOnhlLtrA0Qf",
        "outputId": "85f4d1c7-b0e1-499a-a002-bbbcd11b682f"
      },
      "source": [
        "np.sort(arr2d, axis=1)"
      ],
      "execution_count": null,
      "outputs": [
        {
          "output_type": "execute_result",
          "data": {
            "text/plain": [
              "array([[ 5,  6,  7,  8],\n",
              "       [ 1,  2,  3,  4],\n",
              "       [ 9, 10, 11, 12]])"
            ]
          },
          "metadata": {
            "tags": []
          },
          "execution_count": 14
        }
      ]
    },
    {
      "cell_type": "markdown",
      "metadata": {
        "id": "qNHl6xlgBndg"
      },
      "source": [
        "## 2-2. Sorting Columns ( from top to bottom)"
      ]
    },
    {
      "cell_type": "code",
      "metadata": {
        "colab": {
          "base_uri": "https://localhost:8080/"
        },
        "id": "2AumVMbaAZi9",
        "outputId": "f82cd6d6-f5c8-4a5a-da9e-4994293d13bb"
      },
      "source": [
        "np.sort(arr2d,axis=0)"
      ],
      "execution_count": null,
      "outputs": [
        {
          "output_type": "execute_result",
          "data": {
            "text/plain": [
              "array([[ 4,  3,  2,  1],\n",
              "       [ 5,  6,  7,  8],\n",
              "       [10,  9, 12, 11]])"
            ]
          },
          "metadata": {
            "tags": []
          },
          "execution_count": 16
        }
      ]
    },
    {
      "cell_type": "markdown",
      "metadata": {
        "id": "SySkui2ZCLmF"
      },
      "source": [
        "##3. Returning sorted indexes through argsort"
      ]
    },
    {
      "cell_type": "code",
      "metadata": {
        "colab": {
          "base_uri": "https://localhost:8080/"
        },
        "id": "xsq8dcyTAZxR",
        "outputId": "dc2062aa-410f-4dc8-d06f-fd9311089880"
      },
      "source": [
        "# returns sorted indexes rather than sorted values\n",
        "np.sort(arr2d, axis=1)"
      ],
      "execution_count": null,
      "outputs": [
        {
          "output_type": "execute_result",
          "data": {
            "text/plain": [
              "array([[ 5,  6,  7,  8],\n",
              "       [ 1,  2,  3,  4],\n",
              "       [ 9, 10, 11, 12]])"
            ]
          },
          "metadata": {
            "tags": []
          },
          "execution_count": 17
        }
      ]
    },
    {
      "cell_type": "code",
      "metadata": {
        "colab": {
          "base_uri": "https://localhost:8080/"
        },
        "id": "q93XGGyYC1l2",
        "outputId": "00a4071a-99e8-4053-a5cc-921346f0476d"
      },
      "source": [
        "arr2d"
      ],
      "execution_count": null,
      "outputs": [
        {
          "output_type": "execute_result",
          "data": {
            "text/plain": [
              "array([[ 5,  6,  7,  8],\n",
              "       [ 4,  3,  2,  1],\n",
              "       [10,  9, 12, 11]])"
            ]
          },
          "metadata": {
            "tags": []
          },
          "execution_count": 19
        }
      ]
    },
    {
      "cell_type": "code",
      "metadata": {
        "colab": {
          "base_uri": "https://localhost:8080/"
        },
        "id": "aOvDIW8JAZ54",
        "outputId": "b1138b28-d014-4e94-b73a-02ec6b1c6f3d"
      },
      "source": [
        "np.argsort(arr2d,axis=0)"
      ],
      "execution_count": null,
      "outputs": [
        {
          "output_type": "execute_result",
          "data": {
            "text/plain": [
              "array([[1, 1, 1, 1],\n",
              "       [0, 0, 0, 0],\n",
              "       [2, 2, 2, 2]])"
            ]
          },
          "metadata": {
            "tags": []
          },
          "execution_count": 21
        }
      ]
    },
    {
      "cell_type": "markdown",
      "metadata": {
        "id": "Y_tIXCaODReI"
      },
      "source": [
        "## 4-1. Matrices - Addition "
      ]
    },
    {
      "cell_type": "code",
      "metadata": {
        "id": "72sawk03AZ0I"
      },
      "source": [
        "a=np.array([[1,2,3],[4,5,6]])\n",
        "b=np.array([[3,4,5],[1,2,3]])"
      ],
      "execution_count": null,
      "outputs": []
    },
    {
      "cell_type": "code",
      "metadata": {
        "colab": {
          "base_uri": "https://localhost:8080/"
        },
        "id": "-ABFwrZhAZt1",
        "outputId": "931b430d-a857-427f-9e55-7b59d8a12dd1"
      },
      "source": [
        "a+b"
      ],
      "execution_count": null,
      "outputs": [
        {
          "output_type": "execute_result",
          "data": {
            "text/plain": [
              "array([[4, 6, 8],\n",
              "       [5, 7, 9]])"
            ]
          },
          "metadata": {
            "tags": []
          },
          "execution_count": 30
        }
      ]
    },
    {
      "cell_type": "code",
      "metadata": {
        "id": "PQdDxKPSAZfr"
      },
      "source": [
        "a=np.array([[1,2,3],[4,5,6]])\n",
        "b=np.array([[1,2],[3,4],[5,6]])"
      ],
      "execution_count": null,
      "outputs": []
    },
    {
      "cell_type": "code",
      "metadata": {
        "id": "GknukML-EP7p"
      },
      "source": [
        ""
      ],
      "execution_count": null,
      "outputs": []
    },
    {
      "cell_type": "code",
      "metadata": {
        "colab": {
          "base_uri": "https://localhost:8080/",
          "height": 164
        },
        "id": "Qd7mgjMmEKa2",
        "outputId": "bbfcf2df-ec53-45f7-a63b-a3575f8a19c6"
      },
      "source": [
        "a+b # In order to add matrices, its dimensions should match "
      ],
      "execution_count": null,
      "outputs": [
        {
          "output_type": "error",
          "ename": "ValueError",
          "evalue": "ignored",
          "traceback": [
            "\u001b[0;31m---------------------------------------------------------------------------\u001b[0m",
            "\u001b[0;31mValueError\u001b[0m                                Traceback (most recent call last)",
            "\u001b[0;32m<ipython-input-32-ffd5f90567c7>\u001b[0m in \u001b[0;36m<module>\u001b[0;34m()\u001b[0m\n\u001b[0;32m----> 1\u001b[0;31m \u001b[0ma\u001b[0m\u001b[0;34m+\u001b[0m\u001b[0mb\u001b[0m \u001b[0;31m# In order to add matrices, its dimensions should match\u001b[0m\u001b[0;34m\u001b[0m\u001b[0;34m\u001b[0m\u001b[0m\n\u001b[0m",
            "\u001b[0;31mValueError\u001b[0m: operands could not be broadcast together with shapes (2,3) (3,2) "
          ]
        }
      ]
    },
    {
      "cell_type": "markdown",
      "metadata": {
        "id": "b6AaZW3BEVSW"
      },
      "source": [
        "##4-2. Matrices - Subtraction"
      ]
    },
    {
      "cell_type": "code",
      "metadata": {
        "id": "sThdE0hdESNq"
      },
      "source": [
        "# Subtraction\n"
      ],
      "execution_count": null,
      "outputs": []
    },
    {
      "cell_type": "code",
      "metadata": {
        "id": "YFhLMhFmESjq"
      },
      "source": [
        "a=np.array([[1,2,3],[4,5,6]])\n",
        "b=np.array([[3,4,5],[1,2,3]])"
      ],
      "execution_count": null,
      "outputs": []
    },
    {
      "cell_type": "code",
      "metadata": {
        "colab": {
          "base_uri": "https://localhost:8080/"
        },
        "id": "73gz_ZDrETFy",
        "outputId": "c91b293d-32f5-4838-ef93-fbd2cf70be81"
      },
      "source": [
        "a-b"
      ],
      "execution_count": null,
      "outputs": [
        {
          "output_type": "execute_result",
          "data": {
            "text/plain": [
              "array([[-2, -2, -2],\n",
              "       [ 3,  3,  3]])"
            ]
          },
          "metadata": {
            "tags": []
          },
          "execution_count": 34
        }
      ]
    },
    {
      "cell_type": "code",
      "metadata": {
        "id": "VK0X-RexETL0"
      },
      "source": [
        "a=np.array([[1,2,3],[4,5,6]])\n",
        "b=np.array([[1,2],[3,4],[5,6]])"
      ],
      "execution_count": null,
      "outputs": []
    },
    {
      "cell_type": "code",
      "metadata": {
        "colab": {
          "base_uri": "https://localhost:8080/",
          "height": 164
        },
        "id": "EbMj0NniES-M",
        "outputId": "cce79bea-c474-4732-f6f9-2471de7c59ea"
      },
      "source": [
        "a-b # error "
      ],
      "execution_count": null,
      "outputs": [
        {
          "output_type": "error",
          "ename": "ValueError",
          "evalue": "ignored",
          "traceback": [
            "\u001b[0;31m---------------------------------------------------------------------------\u001b[0m",
            "\u001b[0;31mValueError\u001b[0m                                Traceback (most recent call last)",
            "\u001b[0;32m<ipython-input-36-5ae0619f8fe1>\u001b[0m in \u001b[0;36m<module>\u001b[0;34m()\u001b[0m\n\u001b[0;32m----> 1\u001b[0;31m \u001b[0ma\u001b[0m\u001b[0;34m-\u001b[0m\u001b[0mb\u001b[0m\u001b[0;34m\u001b[0m\u001b[0;34m\u001b[0m\u001b[0m\n\u001b[0m",
            "\u001b[0;31mValueError\u001b[0m: operands could not be broadcast together with shapes (2,3) (3,2) "
          ]
        }
      ]
    },
    {
      "cell_type": "markdown",
      "metadata": {
        "id": "H4QZXOjkErFH"
      },
      "source": [
        "##4-3. Matrices - Multiplication"
      ]
    },
    {
      "cell_type": "code",
      "metadata": {
        "id": "hpNcR0-5ErpT"
      },
      "source": [
        "a=np.array([[1,2,3],[4,5,6]])\n",
        "b=np.array([[3,4,5],[1,2,3]])"
      ],
      "execution_count": null,
      "outputs": []
    },
    {
      "cell_type": "code",
      "metadata": {
        "colab": {
          "base_uri": "https://localhost:8080/"
        },
        "id": "-f1dIUDsESaG",
        "outputId": "a47e18c2-4c18-45aa-90e8-d5df5ca35b4f"
      },
      "source": [
        "# This is regular multiplication but there is also \"dot product\"\n",
        "a*b"
      ],
      "execution_count": null,
      "outputs": [
        {
          "output_type": "execute_result",
          "data": {
            "text/plain": [
              "array([[ 3,  8, 15],\n",
              "       [ 4, 10, 18]])"
            ]
          },
          "metadata": {
            "tags": []
          },
          "execution_count": 38
        }
      ]
    },
    {
      "cell_type": "code",
      "metadata": {
        "colab": {
          "base_uri": "https://localhost:8080/"
        },
        "id": "K7hA6oPaFPVD",
        "outputId": "6945f338-386e-4cb0-9cc5-d38ea1a8294f"
      },
      "source": [
        "# Dot Product\n",
        "a=np.array([[1,2,3],[4,5,6]])\n",
        "b=np.array([[3,4,5],[1,2,3]])\n",
        "a.shape, b.shape # 3 != 2 "
      ],
      "execution_count": null,
      "outputs": [
        {
          "output_type": "execute_result",
          "data": {
            "text/plain": [
              "((2, 3), (2, 3))"
            ]
          },
          "metadata": {
            "tags": []
          },
          "execution_count": 41
        }
      ]
    },
    {
      "cell_type": "code",
      "metadata": {
        "colab": {
          "base_uri": "https://localhost:8080/"
        },
        "id": "gtUM5fVtER8O",
        "outputId": "1d6b7def-4f6f-4ed8-8cd8-6b4b75f39b84"
      },
      "source": [
        "a=np.array([[1,2,3],[4,5,6]])\n",
        "b=np.array([[1,2],[3,4],[5,6]])\n",
        "a.shape, b.shape # 3=3 "
      ],
      "execution_count": null,
      "outputs": [
        {
          "output_type": "execute_result",
          "data": {
            "text/plain": [
              "((2, 3), (3, 2))"
            ]
          },
          "metadata": {
            "tags": []
          },
          "execution_count": 43
        }
      ]
    },
    {
      "cell_type": "code",
      "metadata": {
        "colab": {
          "base_uri": "https://localhost:8080/"
        },
        "id": "kZOprNOZE8ul",
        "outputId": "8fd899e1-6f50-443a-dff1-e2f413f9e601"
      },
      "source": [
        "np.dot(a,b)"
      ],
      "execution_count": null,
      "outputs": [
        {
          "output_type": "execute_result",
          "data": {
            "text/plain": [
              "array([[22, 28],\n",
              "       [49, 64]])"
            ]
          },
          "metadata": {
            "tags": []
          },
          "execution_count": 45
        }
      ]
    },
    {
      "cell_type": "code",
      "metadata": {
        "colab": {
          "base_uri": "https://localhost:8080/"
        },
        "id": "F5TWIUSsGNn8",
        "outputId": "da8cd9c7-633e-46c9-f978-29f462f36b64"
      },
      "source": [
        "a.dot(b) # another way to compute dot product "
      ],
      "execution_count": null,
      "outputs": [
        {
          "output_type": "execute_result",
          "data": {
            "text/plain": [
              "array([[22, 28],\n",
              "       [49, 64]])"
            ]
          },
          "metadata": {
            "tags": []
          },
          "execution_count": 46
        }
      ]
    },
    {
      "cell_type": "markdown",
      "metadata": {
        "id": "s970jDLRHW71"
      },
      "source": [
        "##4-4. Broadcasting"
      ]
    },
    {
      "cell_type": "code",
      "metadata": {
        "colab": {
          "base_uri": "https://localhost:8080/"
        },
        "id": "a1MVSp7SGN38",
        "outputId": "30bfb0cd-5b27-4d4c-e7a3-ec99cc7a8006"
      },
      "source": [
        "a= np.array([[1,2,3],[2,3,4]])\n",
        "b= np.array([[3,3,3],[3,3,3]])\n",
        "a+b"
      ],
      "execution_count": null,
      "outputs": [
        {
          "output_type": "execute_result",
          "data": {
            "text/plain": [
              "array([[4, 5, 6],\n",
              "       [5, 6, 7]])"
            ]
          },
          "metadata": {
            "tags": []
          },
          "execution_count": 47
        }
      ]
    },
    {
      "cell_type": "code",
      "metadata": {
        "colab": {
          "base_uri": "https://localhost:8080/"
        },
        "id": "etA7qz1kHYfi",
        "outputId": "73d11549-2fda-48af-d28d-3db2e4149877"
      },
      "source": [
        "a-3"
      ],
      "execution_count": null,
      "outputs": [
        {
          "output_type": "execute_result",
          "data": {
            "text/plain": [
              "array([[-2, -1,  0],\n",
              "       [-1,  0,  1]])"
            ]
          },
          "metadata": {
            "tags": []
          },
          "execution_count": 48
        }
      ]
    },
    {
      "cell_type": "code",
      "metadata": {
        "colab": {
          "base_uri": "https://localhost:8080/"
        },
        "id": "oE65Qc3wHYoF",
        "outputId": "46bf5401-73b7-419b-a7ed-19914ab32591"
      },
      "source": [
        "a*3"
      ],
      "execution_count": null,
      "outputs": [
        {
          "output_type": "execute_result",
          "data": {
            "text/plain": [
              "array([[ 3,  6,  9],\n",
              "       [ 6,  9, 12]])"
            ]
          },
          "metadata": {
            "tags": []
          },
          "execution_count": 49
        }
      ]
    },
    {
      "cell_type": "code",
      "metadata": {
        "colab": {
          "base_uri": "https://localhost:8080/"
        },
        "id": "PxHw8YNGHYyh",
        "outputId": "e529c61f-e0ae-421c-de5c-688d87b5c7b0"
      },
      "source": [
        "a/3"
      ],
      "execution_count": null,
      "outputs": [
        {
          "output_type": "execute_result",
          "data": {
            "text/plain": [
              "array([[0.33333333, 0.66666667, 1.        ],\n",
              "       [0.66666667, 1.        , 1.33333333]])"
            ]
          },
          "metadata": {
            "tags": []
          },
          "execution_count": 50
        }
      ]
    },
    {
      "cell_type": "code",
      "metadata": {
        "colab": {
          "base_uri": "https://localhost:8080/"
        },
        "id": "mPR-xKuLHY86",
        "outputId": "d063a97d-dc54-449a-dfa0-d98203416558"
      },
      "source": [
        "a= np.array([[1,2,3],[2,3,4]])\n",
        "b= np.array([[1],[2]])\n",
        "a.shape, b.shape"
      ],
      "execution_count": null,
      "outputs": [
        {
          "output_type": "execute_result",
          "data": {
            "text/plain": [
              "((2, 3), (2, 1))"
            ]
          },
          "metadata": {
            "tags": []
          },
          "execution_count": 54
        }
      ]
    },
    {
      "cell_type": "code",
      "metadata": {
        "colab": {
          "base_uri": "https://localhost:8080/"
        },
        "id": "L9V25ivmHY_p",
        "outputId": "7153ea18-71b2-4022-bd83-051f5d35a130"
      },
      "source": [
        "# maintains the shape of the original array \n",
        "a*b"
      ],
      "execution_count": null,
      "outputs": [
        {
          "output_type": "execute_result",
          "data": {
            "text/plain": [
              "array([[1, 2, 3],\n",
              "       [4, 6, 8]])"
            ]
          },
          "metadata": {
            "tags": []
          },
          "execution_count": 56
        }
      ]
    },
    {
      "cell_type": "code",
      "metadata": {
        "id": "_xMgI_U8HY4v"
      },
      "source": [
        ""
      ],
      "execution_count": null,
      "outputs": []
    },
    {
      "cell_type": "code",
      "metadata": {
        "id": "7YoXaoptHYwZ"
      },
      "source": [
        ""
      ],
      "execution_count": null,
      "outputs": []
    },
    {
      "cell_type": "code",
      "metadata": {
        "id": "3FnFy6fWHYjD"
      },
      "source": [
        ""
      ],
      "execution_count": null,
      "outputs": []
    },
    {
      "cell_type": "code",
      "metadata": {
        "id": "rJYQG58EHYZM"
      },
      "source": [
        ""
      ],
      "execution_count": null,
      "outputs": []
    }
  ]
}