{
  "nbformat": 4,
  "nbformat_minor": 0,
  "metadata": {
    "colab": {
      "name": "1_Google_Colaboratory.ipynb",
      "provenance": [],
      "toc_visible": true,
      "authorship_tag": "ABX9TyM1PLCwZit03OOAPrpsTI1R",
      "include_colab_link": true
    },
    "kernelspec": {
      "name": "python3",
      "display_name": "Python 3"
    }
  },
  "cells": [
    {
      "cell_type": "markdown",
      "metadata": {
        "id": "view-in-github",
        "colab_type": "text"
      },
      "source": [
        "<a href=\"https://colab.research.google.com/github/smileone22/BIGDATA-AI-R-BASIC/blob/master/1_Google_Colaboratory.ipynb\" target=\"_parent\"><img src=\"https://colab.research.google.com/assets/colab-badge.svg\" alt=\"Open In Colab\"/></a>"
      ]
    },
    {
      "cell_type": "markdown",
      "metadata": {
        "id": "nkconaKtC3D4"
      },
      "source": [
        "# **1. Installing Colab**"
      ]
    },
    {
      "cell_type": "markdown",
      "metadata": {
        "id": "O40uOGfUC2az"
      },
      "source": [
        "1. Move to google drive\n",
        "2. click new\n",
        "3. click More > Google Colaboratory\n",
        "4. Search Colaboratory\n",
        "5. click \"add\"\n"
      ]
    },
    {
      "cell_type": "markdown",
      "metadata": {
        "id": "kguX0gkECkZ3"
      },
      "source": [
        "# **2. Colab Hardware**\n"
      ]
    },
    {
      "cell_type": "markdown",
      "metadata": {
        "id": "KXphxzCzDxqZ"
      },
      "source": [
        "OS environment "
      ]
    },
    {
      "cell_type": "code",
      "metadata": {
        "id": "QC8STSXzEDKe",
        "outputId": "6a680f4e-d548-40de-9c0b-a7bc7905f2e0",
        "colab": {
          "base_uri": "https://localhost:8080/"
        }
      },
      "source": [
        "!cat /etc/issue.net"
      ],
      "execution_count": null,
      "outputs": [
        {
          "output_type": "stream",
          "text": [
            "Ubuntu 18.04.5 LTS\n"
          ],
          "name": "stdout"
        }
      ]
    },
    {
      "cell_type": "markdown",
      "metadata": {
        "id": "Y9oJVrqlEeDP"
      },
      "source": [
        "CPU Specification"
      ]
    },
    {
      "cell_type": "code",
      "metadata": {
        "id": "zJ-LEBkEEg9h",
        "outputId": "5d057e32-ba7a-4bda-e574-8d634cf1f92d",
        "colab": {
          "base_uri": "https://localhost:8080/"
        }
      },
      "source": [
        "!head /proc/cpuinfo"
      ],
      "execution_count": null,
      "outputs": [
        {
          "output_type": "stream",
          "text": [
            "processor\t: 0\n",
            "vendor_id\t: GenuineIntel\n",
            "cpu family\t: 6\n",
            "model\t\t: 63\n",
            "model name\t: Intel(R) Xeon(R) CPU @ 2.30GHz\n",
            "stepping\t: 0\n",
            "microcode\t: 0x1\n",
            "cpu MHz\t\t: 2300.000\n",
            "cache size\t: 46080 KB\n",
            "physical id\t: 0\n"
          ],
          "name": "stdout"
        }
      ]
    },
    {
      "cell_type": "markdown",
      "metadata": {
        "id": "-dlbwsvLEucx"
      },
      "source": [
        "Memory Specification\n"
      ]
    },
    {
      "cell_type": "code",
      "metadata": {
        "id": "zS4qpBDREv33",
        "outputId": "fc36e2f7-bb1b-4195-a661-1da8879c99b5",
        "colab": {
          "base_uri": "https://localhost:8080/"
        }
      },
      "source": [
        "!head -n 3 /proc/meminfo"
      ],
      "execution_count": null,
      "outputs": [
        {
          "output_type": "stream",
          "text": [
            "MemTotal:       13333552 kB\n",
            "MemFree:        10934176 kB\n",
            "MemAvailable:   12554188 kB\n"
          ],
          "name": "stdout"
        }
      ]
    },
    {
      "cell_type": "markdown",
      "metadata": {
        "id": "CvC1LpsjE-3R"
      },
      "source": [
        "Python Version"
      ]
    },
    {
      "cell_type": "code",
      "metadata": {
        "id": "Lkw7lUMKFAUL",
        "outputId": "6925e808-2ddd-4cac-a875-8e78e9b564e6",
        "colab": {
          "base_uri": "https://localhost:8080/"
        }
      },
      "source": [
        "!python --version"
      ],
      "execution_count": null,
      "outputs": [
        {
          "output_type": "stream",
          "text": [
            "Python 3.6.9\n"
          ],
          "name": "stdout"
        }
      ]
    },
    {
      "cell_type": "markdown",
      "metadata": {
        "id": "ghXukOm8J0sH"
      },
      "source": [
        "# **3. Using GPU**"
      ]
    },
    {
      "cell_type": "markdown",
      "metadata": {
        "id": "1UkdvHxUKgwF"
      },
      "source": [
        "Edit > Note Settings > Hardware Accelerator > GPU settings "
      ]
    },
    {
      "cell_type": "markdown",
      "metadata": {
        "id": "d4SKrMq0KsNd"
      },
      "source": [
        "# **4. Setting basic menu**\n"
      ]
    },
    {
      "cell_type": "markdown",
      "metadata": {
        "id": "TM2CiBR4LF1N"
      },
      "source": [
        "1. Table of contents(search, add codes, file search)\n",
        "2. Code (Python)/ Text (Markdown)\n",
        "3. Commenting ( Comment on file/ Comment on cells)"
      ]
    },
    {
      "cell_type": "markdown",
      "metadata": {
        "id": "CnmVGb6fMu-p"
      },
      "source": [
        "# **5. Sharing** "
      ]
    },
    {
      "cell_type": "markdown",
      "metadata": {
        "id": "yDbVlM0wNGWj"
      },
      "source": [
        "1. \"File\" > click \"Save a copy in Drive\" >> Added to \"My Drive\" \n",
        "2. \"File\" > click \"Locate in Drive\" (Location of the drive) > right click > Copy Link"
      ]
    },
    {
      "cell_type": "markdown",
      "metadata": {
        "id": "z7rbjtalOmIf"
      },
      "source": [
        "# **6. Types of cell (code/text)**"
      ]
    },
    {
      "cell_type": "markdown",
      "metadata": {
        "id": "ZUexYYslOtO3"
      },
      "source": [
        "1. Code Cell: Cell for codes\n",
        "2. Text Cell: Text cell for commenting, explaining codes"
      ]
    },
    {
      "cell_type": "markdown",
      "metadata": {
        "id": "aR6bKG35O_PB"
      },
      "source": [
        "## 6-1. Difference between commenting and text cell"
      ]
    },
    {
      "cell_type": "code",
      "metadata": {
        "id": "WTyEKLTmPVPt",
        "outputId": "a6cfa83d-b3be-4573-b9da-7b5a1df57f4d",
        "colab": {
          "base_uri": "https://localhost:8080/"
        }
      },
      "source": [
        "print(\"Hello colab\")"
      ],
      "execution_count": 8,
      "outputs": [
        {
          "output_type": "stream",
          "text": [
            "Hello colab\n"
          ],
          "name": "stdout"
        }
      ]
    },
    {
      "cell_type": "code",
      "metadata": {
        "id": "TtvxhDlsPXaz",
        "outputId": "a82579d0-fa84-4bea-ab7d-bdd73c17b146",
        "colab": {
          "base_uri": "https://localhost:8080/"
        }
      },
      "source": [
        "# commenting on code\n",
        "print('How to comment in code: Use #')"
      ],
      "execution_count": 7,
      "outputs": [
        {
          "output_type": "stream",
          "text": [
            "How to comment in code\n"
          ],
          "name": "stdout"
        }
      ]
    },
    {
      "cell_type": "markdown",
      "metadata": {
        "id": "WqZt-h7OPhqv"
      },
      "source": [
        "## 6-2. Add cells"
      ]
    },
    {
      "cell_type": "markdown",
      "metadata": {
        "id": "C_euWbAVPoBK"
      },
      "source": [
        "1. Click \"+code\" or \"+text\" on the upper right corner\n",
        "2. Add code cell on top: CTRL + M A  \n",
        "3. Add code cell below: CTRL+ M B\n",
        "4. Shift to Markdown cell: CTRL + M M \n",
        "5. Shift to Code cell: CTRL + M Y  "
      ]
    },
    {
      "cell_type": "markdown",
      "metadata": {
        "id": "V6UAs1lxQUYp"
      },
      "source": [
        "## 6-3. Delete cells\n"
      ]
    },
    {
      "cell_type": "markdown",
      "metadata": {
        "id": "VRiDBEflQdIz"
      },
      "source": [
        "1. Click the trash icon on the right corner of the cell\n",
        "2. CTRL + M D"
      ]
    },
    {
      "cell_type": "markdown",
      "metadata": {
        "id": "D9c6-BIbQ4vR"
      },
      "source": [
        "## 6-4.Execute and Print"
      ]
    },
    {
      "cell_type": "markdown",
      "metadata": {
        "id": "P4a8b89HRAYU"
      },
      "source": [
        "* **Execution **: click \"run\" button to execute a cell\n",
        "* CTRL + ENTER "
      ]
    },
    {
      "cell_type": "markdown",
      "metadata": {
        "id": "OOTHUNQmRlVP"
      },
      "source": [
        "1. CTRL + ENTER: cursor stops at the cell after running a cell\n",
        "2. SHIFT + ENTER: cursor moves to the next cell after running  the cell \n",
        "3. ALT(option for mac) + ENTER: cursor creates another cell below after running a cell "
      ]
    },
    {
      "cell_type": "code",
      "metadata": {
        "id": "RMfOA3MIRIbh",
        "outputId": "1a3e6d64-cbfa-4e4e-e92f-83e82d35efdc",
        "colab": {
          "base_uri": "https://localhost:8080/"
        }
      },
      "source": [
        "print(\"Hi\")"
      ],
      "execution_count": 18,
      "outputs": [
        {
          "output_type": "stream",
          "text": [
            "Hi\n"
          ],
          "name": "stdout"
        }
      ]
    },
    {
      "cell_type": "code",
      "metadata": {
        "id": "QXiKY1N2STpD"
      },
      "source": [
        ""
      ],
      "execution_count": null,
      "outputs": []
    },
    {
      "cell_type": "code",
      "metadata": {
        "id": "vN0qU0SOSGEF",
        "outputId": "b421e2dd-21be-4897-db73-405c1ea4a158",
        "colab": {
          "base_uri": "https://localhost:8080/"
        }
      },
      "source": [
        "print(\"Next\")"
      ],
      "execution_count": 17,
      "outputs": [
        {
          "output_type": "stream",
          "text": [
            "Next\n"
          ],
          "name": "stdout"
        }
      ]
    },
    {
      "cell_type": "code",
      "metadata": {
        "id": "9pWPBD3iSRkx"
      },
      "source": [
        ""
      ],
      "execution_count": null,
      "outputs": []
    }
  ]
}